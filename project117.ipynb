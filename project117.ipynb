{
  "nbformat": 4,
  "nbformat_minor": 0,
  "metadata": {
    "colab": {
      "name": "project117",
      "provenance": [],
      "authorship_tag": "ABX9TyNp0U7dwr0KzYoWjWB9VlLE",
      "include_colab_link": true
    },
    "kernelspec": {
      "name": "python3",
      "display_name": "Python 3"
    }
  },
  "cells": [
    {
      "cell_type": "markdown",
      "metadata": {
        "id": "view-in-github",
        "colab_type": "text"
      },
      "source": [
        "<a href=\"https://colab.research.google.com/github/kalravm41/project117/blob/main/project117.ipynb\" target=\"_parent\"><img src=\"https://colab.research.google.com/assets/colab-badge.svg\" alt=\"Open In Colab\"/></a>"
      ]
    },
    {
      "cell_type": "code",
      "metadata": {
        "colab": {
          "base_uri": "https://localhost:8080/",
          "height": 434
        },
        "id": "_tN8sJ4Oher2",
        "outputId": "e218afb6-22e0-4d9a-ff6e-04cbe7c7c7c5"
      },
      "source": [
        "import pandas as pd\n",
        "import plotly.express as px\n",
        "import csv\n",
        "from sklearn.model_selection import train_test_split\n",
        "from sklearn.linear_model import LogisticRegression as lr\n",
        "import numpy as np\n",
        "import seaborn as sb\n",
        "import matplotlib.pyplot as plt\n",
        "from sklearn.metrics import confusion_matrix\n",
        "\n",
        "df = pd.read_csv('data.csv')\n",
        "\n",
        "age = df['age']\n",
        "target = df['target']\n",
        "\n",
        "ageTrain,ageTest,targetTrain,targetTest = train_test_split(age, target, test_size= 0.25, random_state= 0)\n",
        "\n",
        "X= np.reshape(ageTrain.ravel(),(len(ageTrain),1))\n",
        "Y= np.reshape(targetTrain.ravel(),(len(targetTrain),1))\n",
        "\n",
        "classifier = lr(random_state= 0)\n",
        "classifier.fit(X,Y)\n",
        "\n",
        "x_test= np.reshape(ageTest.ravel(),(len(ageTest),1))\n",
        "y_test= np.reshape(targetTest.ravel(),(len(targetTest),1))\n",
        "\n",
        "heartAttackp = classifier.predict(x_test)\n",
        "\n",
        "predictedValues = []\n",
        "\n",
        "for i in heartAttackp:\n",
        "  if i == 0:\n",
        "    predictedValues.append('No')\n",
        "  else:\n",
        "    predictedValues.append('Yes')  \n",
        "\n",
        "print(predictedValues[1])\n",
        "\n",
        "ActualValues = []\n",
        "\n",
        "for i in y_test:\n",
        "  if i == 0:\n",
        "    ActualValues.append('No')\n",
        "  else:\n",
        "    ActualValues.append('Yes')  \n",
        "print(ActualValues[1]) \n",
        "\n",
        "labels = ['Yes', 'No']\n",
        "\n",
        "cm = confusion_matrix(ActualValues, predictedValues, labels)\n",
        "\n",
        "ax = plt.subplot()\n",
        "\n",
        "sb.heatmap(cm, annot = True, ax= ax)\n",
        "\n",
        "ax.set_xlabel('predicted')\n",
        "ax.set_ylabel('Actual')\n",
        "\n",
        "ax.set_title('Confusion Matrix')\n",
        "\n",
        "ax.xaxis.set_ticklabels(labels)\n",
        "ax.yaxis.set_ticklabels(labels)"
      ],
      "execution_count": 1,
      "outputs": [
        {
          "output_type": "stream",
          "text": [
            "No\n",
            "Yes\n"
          ],
          "name": "stdout"
        },
        {
          "output_type": "stream",
          "text": [
            "/usr/local/lib/python3.6/dist-packages/sklearn/utils/validation.py:760: DataConversionWarning:\n",
            "\n",
            "A column-vector y was passed when a 1d array was expected. Please change the shape of y to (n_samples, ), for example using ravel().\n",
            "\n"
          ],
          "name": "stderr"
        },
        {
          "output_type": "execute_result",
          "data": {
            "text/plain": [
              "[Text(0, 0.5, 'Yes'), Text(0, 1.5, 'No')]"
            ]
          },
          "metadata": {
            "tags": []
          },
          "execution_count": 1
        },
        {
          "output_type": "display_data",
          "data": {
            "image/png": "[encoded data removed]",
            "text/plain": [
              "<Figure size 432x288 with 2 Axes>"
            ]
          },
          "metadata": {
            "tags": [],
            "needs_background": "light"
          }
        }
      ]
    }
  ]
}